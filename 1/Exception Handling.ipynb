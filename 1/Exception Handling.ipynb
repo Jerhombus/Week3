{
 "cells": [
  {
   "cell_type": "code",
   "execution_count": 5,
   "metadata": {},
   "outputs": [],
   "source": [
    "class Employee:\n",
    "    def __init__(self,f_name=None, l_name=None, email=None ):\n",
    "        self.fname = f_name\n",
    "        self.lname = l_name\n",
    "        self.email = email\n",
    "        \n",
    "        def set_email(self):\n",
    "            if self.email:\n",
    "                self.email =f'{self.fname}{self.lname[0]}@gmail.com' or None\n",
    "        \n",
    "        \n",
    "e1 = Employee()"
   ]
  }
 ],
 "metadata": {
  "kernelspec": {
   "display_name": "Python 3",
   "language": "python",
   "name": "python3"
  },
  "language_info": {
   "codemirror_mode": {
    "name": "ipython",
    "version": 3
   },
   "file_extension": ".py",
   "mimetype": "text/x-python",
   "name": "python",
   "nbconvert_exporter": "python",
   "pygments_lexer": "ipython3",
   "version": "3.8.5"
  }
 },
 "nbformat": 4,
 "nbformat_minor": 4
}
